{
  "nbformat": 4,
  "nbformat_minor": 0,
  "metadata": {
    "colab": {
      "name": "Project 2: Feature Extraction and One Class Classification",
      "provenance": [],
      "collapsed_sections": [],
      "toc_visible": true
    },
    "kernelspec": {
      "name": "python3",
      "display_name": "Python 3"
    },
    "language_info": {
      "name": "python"
    }
  },
  "cells": [
    {
      "cell_type": "markdown",
      "source": [
        "#1. Load collected dataset\n",
        "The dataset is stored in Google drive in a folder called p25-dataset and is loaded into this collab notebook"
      ],
      "metadata": {
        "id": "m0h6pSoL1pjD"
      }
    },
    {
      "cell_type": "code",
      "execution_count": null,
      "metadata": {
        "id": "2wDEPQhV1Hc4"
      },
      "outputs": [],
      "source": [
        "import matplotlib.pyplot as plt\n",
        "import numpy as np\n",
        "import pandas as pd\n",
        "import tensorflow as tf\n",
        "import os\n",
        "from google.colab import drive\n",
        "\n",
        "from sklearn.metrics import accuracy_score, precision_score, recall_score, roc_curve, auc\n",
        "from sklearn.model_selection import train_test_split\n",
        "from tensorflow.keras import layers, losses\n",
        "from tensorflow.keras.models import Model"
      ]
    },
    {
      "cell_type": "code",
      "source": [
        "\n",
        "drive.mount('/gdrive/')\n",
        "!ls /gdrive\n",
        "file_path = '/gdrive/My Drive/Colab Notebooks/p25-dataset'\n"
      ],
      "metadata": {
        "colab": {
          "base_uri": "https://localhost:8080/"
        },
        "id": "y7GEdBDulwPU",
        "outputId": "38745162-7280-406d-a372-578abfead423"
      },
      "execution_count": null,
      "outputs": [
        {
          "output_type": "stream",
          "name": "stdout",
          "text": [
            "Mounted at /gdrive/\n",
            "MyDrive\n"
          ]
        }
      ]
    },
    {
      "cell_type": "code",
      "source": [
        "my_data_path = os.path.join(file_path, \"p25-dataset\")\n",
        "\n",
        "os.chdir(file_path)\n"
      ],
      "metadata": {
        "id": "CvrgHfjEsDIG"
      },
      "execution_count": null,
      "outputs": []
    },
    {
      "cell_type": "markdown",
      "source": [
        "The folder p25-dataset contains the sensor data for each activity. The activities include:\n",
        "1. Dancing\n",
        "2. Walking\n",
        "3. Ascending stairs\n",
        "4. Descending stairs\n",
        "5. Sitting\n",
        "6. Jumping\n",
        "7. Standing\n",
        "\n",
        "We tried to keep the activities as diverse as possible so that the model can be trained with different types of activities (for example sitting and dancing). "
      ],
      "metadata": {
        "id": "uJsfoTuytXBK"
      }
    },
    {
      "cell_type": "code",
      "source": [
        "\n",
        "my_data_fpaths = [a for a in os.listdir('/gdrive/My Drive/Colab Notebooks/p25-dataset') if a.endswith('.csv')]\n",
        "my_data_fpaths"
      ],
      "metadata": {
        "colab": {
          "base_uri": "https://localhost:8080/"
        },
        "id": "lXrF_EdG1yDt",
        "outputId": "49e56d07-59a3-454b-b157-d65235dc398a"
      },
      "execution_count": null,
      "outputs": [
        {
          "output_type": "execute_result",
          "data": {
            "text/plain": [
              "['p25-dancing.csv',\n",
              " 'p25-walking.csv',\n",
              " 'p25-ascending.csv',\n",
              " 'p25-sitting.csv',\n",
              " 'p25-jumping.csv',\n",
              " 'p25-descending.csv',\n",
              " 'p25-standing.csv']"
            ]
          },
          "metadata": {},
          "execution_count": 18
        }
      ]
    },
    {
      "cell_type": "code",
      "source": [
        "import glob\n",
        "import pandas as pd"
      ],
      "metadata": {
        "id": "FmVLkkLp198R"
      },
      "execution_count": null,
      "outputs": []
    },
    {
      "cell_type": "code",
      "source": [
        "class2fname = {}\n",
        "fname2class = {}"
      ],
      "metadata": {
        "id": "Ve2mO8ZhHVaA"
      },
      "execution_count": null,
      "outputs": []
    },
    {
      "cell_type": "code",
      "source": [
        "for i, each in enumerate(my_data_fpaths):\n",
        "  classname = each.split(\".\")[0]\n",
        "  fname2class[classname] = i\n",
        "  class2fname[i] = classname"
      ],
      "metadata": {
        "id": "DrYwtVuRMlF3"
      },
      "execution_count": null,
      "outputs": []
    },
    {
      "cell_type": "code",
      "source": [
        "extension = 'csv'\n",
        "all_filenames = [i for i in glob.glob('*.{}'.format(extension))]"
      ],
      "metadata": {
        "id": "t69P-WcO1vuC"
      },
      "execution_count": null,
      "outputs": []
    },
    {
      "cell_type": "markdown",
      "source": [
        "Combine all csv into one CSV file called combined_csv"
      ],
      "metadata": {
        "id": "5U1sq9WysSxo"
      }
    },
    {
      "cell_type": "code",
      "source": [
        "#combine all files in the list\n",
        "combined_csv = pd.concat([pd.read_csv(f) for f in all_filenames ])\n",
        "#export to csv\n",
        "combined_csv.to_csv( \"combined_csv2.csv\", index=False, encoding='utf-8-sig')"
      ],
      "metadata": {
        "id": "yleskk6h1TY-"
      },
      "execution_count": null,
      "outputs": []
    },
    {
      "cell_type": "markdown",
      "source": [
        "# 2. Transpose the data\n",
        "\n",
        "Transpose the columns to rows and rows to columns. There should be [6 rows x 171358 columns].\n",
        "\n"
      ],
      "metadata": {
        "id": "_YGppbDm2Iqz"
      }
    },
    {
      "cell_type": "code",
      "source": [
        "dataframe = pd.read_csv(\"combined_csv2.csv\", header=None)\n",
        "raw_data = dataframe.values\n",
        "dataframe.head()"
      ],
      "metadata": {
        "id": "9CzH1idq07p1",
        "colab": {
          "base_uri": "https://localhost:8080/",
          "height": 204
        },
        "outputId": "cd13caee-ce37-4d40-c31a-f14d77b746a1"
      },
      "execution_count": null,
      "outputs": [
        {
          "output_type": "execute_result",
          "data": {
            "text/html": [
              "\n",
              "  <div id=\"df-f072448b-5f1b-4140-8925-9ef07a721854\">\n",
              "    <div class=\"colab-df-container\">\n",
              "      <div>\n",
              "<style scoped>\n",
              "    .dataframe tbody tr th:only-of-type {\n",
              "        vertical-align: middle;\n",
              "    }\n",
              "\n",
              "    .dataframe tbody tr th {\n",
              "        vertical-align: top;\n",
              "    }\n",
              "\n",
              "    .dataframe thead th {\n",
              "        text-align: right;\n",
              "    }\n",
              "</style>\n",
              "<table border=\"1\" class=\"dataframe\">\n",
              "  <thead>\n",
              "    <tr style=\"text-align: right;\">\n",
              "      <th></th>\n",
              "      <th>0</th>\n",
              "      <th>1</th>\n",
              "      <th>2</th>\n",
              "      <th>3</th>\n",
              "      <th>4</th>\n",
              "      <th>5</th>\n",
              "    </tr>\n",
              "  </thead>\n",
              "  <tbody>\n",
              "    <tr>\n",
              "      <th>0</th>\n",
              "      <td>aX</td>\n",
              "      <td>aY</td>\n",
              "      <td>aZ</td>\n",
              "      <td>gX</td>\n",
              "      <td>gY</td>\n",
              "      <td>gZ</td>\n",
              "    </tr>\n",
              "    <tr>\n",
              "      <th>1</th>\n",
              "      <td>-0.82</td>\n",
              "      <td>-0.54</td>\n",
              "      <td>0.03</td>\n",
              "      <td>-1.34</td>\n",
              "      <td>-2.69</td>\n",
              "      <td>-2.69</td>\n",
              "    </tr>\n",
              "    <tr>\n",
              "      <th>2</th>\n",
              "      <td>-0.82</td>\n",
              "      <td>-0.54</td>\n",
              "      <td>0.03</td>\n",
              "      <td>-1.59</td>\n",
              "      <td>-2.69</td>\n",
              "      <td>-2.69</td>\n",
              "    </tr>\n",
              "    <tr>\n",
              "      <th>3</th>\n",
              "      <td>-0.82</td>\n",
              "      <td>-0.54</td>\n",
              "      <td>0.02</td>\n",
              "      <td>-1.53</td>\n",
              "      <td>-2.5</td>\n",
              "      <td>-2.75</td>\n",
              "    </tr>\n",
              "    <tr>\n",
              "      <th>4</th>\n",
              "      <td>-0.82</td>\n",
              "      <td>-0.53</td>\n",
              "      <td>0.02</td>\n",
              "      <td>-1.46</td>\n",
              "      <td>-2.32</td>\n",
              "      <td>-2.93</td>\n",
              "    </tr>\n",
              "  </tbody>\n",
              "</table>\n",
              "</div>\n",
              "      <button class=\"colab-df-convert\" onclick=\"convertToInteractive('df-f072448b-5f1b-4140-8925-9ef07a721854')\"\n",
              "              title=\"Convert this dataframe to an interactive table.\"\n",
              "              style=\"display:none;\">\n",
              "        \n",
              "  <svg xmlns=\"http://www.w3.org/2000/svg\" height=\"24px\"viewBox=\"0 0 24 24\"\n",
              "       width=\"24px\">\n",
              "    <path d=\"M0 0h24v24H0V0z\" fill=\"none\"/>\n",
              "    <path d=\"M18.56 5.44l.94 2.06.94-2.06 2.06-.94-2.06-.94-.94-2.06-.94 2.06-2.06.94zm-11 1L8.5 8.5l.94-2.06 2.06-.94-2.06-.94L8.5 2.5l-.94 2.06-2.06.94zm10 10l.94 2.06.94-2.06 2.06-.94-2.06-.94-.94-2.06-.94 2.06-2.06.94z\"/><path d=\"M17.41 7.96l-1.37-1.37c-.4-.4-.92-.59-1.43-.59-.52 0-1.04.2-1.43.59L10.3 9.45l-7.72 7.72c-.78.78-.78 2.05 0 2.83L4 21.41c.39.39.9.59 1.41.59.51 0 1.02-.2 1.41-.59l7.78-7.78 2.81-2.81c.8-.78.8-2.07 0-2.86zM5.41 20L4 18.59l7.72-7.72 1.47 1.35L5.41 20z\"/>\n",
              "  </svg>\n",
              "      </button>\n",
              "      \n",
              "  <style>\n",
              "    .colab-df-container {\n",
              "      display:flex;\n",
              "      flex-wrap:wrap;\n",
              "      gap: 12px;\n",
              "    }\n",
              "\n",
              "    .colab-df-convert {\n",
              "      background-color: #E8F0FE;\n",
              "      border: none;\n",
              "      border-radius: 50%;\n",
              "      cursor: pointer;\n",
              "      display: none;\n",
              "      fill: #1967D2;\n",
              "      height: 32px;\n",
              "      padding: 0 0 0 0;\n",
              "      width: 32px;\n",
              "    }\n",
              "\n",
              "    .colab-df-convert:hover {\n",
              "      background-color: #E2EBFA;\n",
              "      box-shadow: 0px 1px 2px rgba(60, 64, 67, 0.3), 0px 1px 3px 1px rgba(60, 64, 67, 0.15);\n",
              "      fill: #174EA6;\n",
              "    }\n",
              "\n",
              "    [theme=dark] .colab-df-convert {\n",
              "      background-color: #3B4455;\n",
              "      fill: #D2E3FC;\n",
              "    }\n",
              "\n",
              "    [theme=dark] .colab-df-convert:hover {\n",
              "      background-color: #434B5C;\n",
              "      box-shadow: 0px 1px 3px 1px rgba(0, 0, 0, 0.15);\n",
              "      filter: drop-shadow(0px 1px 2px rgba(0, 0, 0, 0.3));\n",
              "      fill: #FFFFFF;\n",
              "    }\n",
              "  </style>\n",
              "\n",
              "      <script>\n",
              "        const buttonEl =\n",
              "          document.querySelector('#df-f072448b-5f1b-4140-8925-9ef07a721854 button.colab-df-convert');\n",
              "        buttonEl.style.display =\n",
              "          google.colab.kernel.accessAllowed ? 'block' : 'none';\n",
              "\n",
              "        async function convertToInteractive(key) {\n",
              "          const element = document.querySelector('#df-f072448b-5f1b-4140-8925-9ef07a721854');\n",
              "          const dataTable =\n",
              "            await google.colab.kernel.invokeFunction('convertToInteractive',\n",
              "                                                     [key], {});\n",
              "          if (!dataTable) return;\n",
              "\n",
              "          const docLinkHtml = 'Like what you see? Visit the ' +\n",
              "            '<a target=\"_blank\" href=https://colab.research.google.com/notebooks/data_table.ipynb>data table notebook</a>'\n",
              "            + ' to learn more about interactive tables.';\n",
              "          element.innerHTML = '';\n",
              "          dataTable['output_type'] = 'display_data';\n",
              "          await google.colab.output.renderOutput(dataTable, element);\n",
              "          const docLink = document.createElement('div');\n",
              "          docLink.innerHTML = docLinkHtml;\n",
              "          element.appendChild(docLink);\n",
              "        }\n",
              "      </script>\n",
              "    </div>\n",
              "  </div>\n",
              "  "
            ],
            "text/plain": [
              "       0      1     2      3      4      5\n",
              "0     aX     aY    aZ     gX     gY     gZ\n",
              "1  -0.82  -0.54  0.03  -1.34  -2.69  -2.69\n",
              "2  -0.82  -0.54  0.03  -1.59  -2.69  -2.69\n",
              "3  -0.82  -0.54  0.02  -1.53   -2.5  -2.75\n",
              "4  -0.82  -0.53  0.02  -1.46  -2.32  -2.93"
            ]
          },
          "metadata": {},
          "execution_count": 25
        }
      ]
    },
    {
      "cell_type": "code",
      "source": [
        "df_tr = dataframe.transpose()\n",
        "print(df_tr)"
      ],
      "metadata": {
        "id": "P4scs8qT2P8G",
        "colab": {
          "base_uri": "https://localhost:8080/"
        },
        "outputId": "a64aefc2-ff9b-4b99-d173-ee9656239f42"
      },
      "execution_count": null,
      "outputs": [
        {
          "output_type": "stream",
          "name": "stdout",
          "text": [
            "  0      1      2      3      4      5      6      7      8      9      ...  \\\n",
            "0    aX  -0.82  -0.82  -0.82  -0.82  -0.82  -0.82  -0.82  -0.83  -0.83  ...   \n",
            "1    aY  -0.54  -0.54  -0.54  -0.53  -0.53  -0.53  -0.53  -0.53  -0.53  ...   \n",
            "2    aZ   0.03   0.03   0.02   0.02   0.02   0.02   0.02   0.03   0.03  ...   \n",
            "3    gX  -1.34  -1.59  -1.53  -1.46  -1.34  -1.04  -0.85  -0.92  -1.16  ...   \n",
            "4    gY  -2.69  -2.69   -2.5  -2.32  -2.32  -2.26   -2.2  -2.32   -2.5  ...   \n",
            "5    gZ  -2.69  -2.69  -2.75  -2.93  -2.99  -3.11  -2.99  -3.17  -3.23  ...   \n",
            "\n",
            "    99951   99952   99953   99954   99955   99956   99957   99958   99959  \\\n",
            "0   -0.67   -0.67   -0.67   -0.68   -0.68   -0.67   -0.68   -0.68   -0.68   \n",
            "1   -0.69   -0.68   -0.68   -0.68   -0.68   -0.68   -0.68   -0.68   -0.68   \n",
            "2    0.21    0.21    0.22    0.22    0.22    0.22    0.22    0.24    0.25   \n",
            "3  -11.72  -12.27  -12.51  -12.63   -13.0  -12.33   -11.6   -10.8  -11.23   \n",
            "4    8.67     9.4   10.19   10.93   11.96   12.15   11.96   11.35   11.11   \n",
            "5   -9.95   -9.95  -10.44  -11.11  -11.35  -11.35  -11.35  -11.23  -11.23   \n",
            "\n",
            "    99960  \n",
            "0   -0.68  \n",
            "1   -0.69  \n",
            "2    0.27  \n",
            "3  -12.27  \n",
            "4   11.11  \n",
            "5  -11.05  \n",
            "\n",
            "[6 rows x 99961 columns]\n"
          ]
        }
      ]
    },
    {
      "cell_type": "markdown",
      "source": [
        "# 3. Convert Dataframe to Array\n",
        "\n",
        "Convert the dataframe into an array for segmenting the data before feature extraction."
      ],
      "metadata": {
        "id": "MMBBYR7HvLt2"
      }
    },
    {
      "cell_type": "code",
      "source": [
        "arr = df_tr.to_numpy()\n",
        "print(arr)\n",
        "print(arr.shape)"
      ],
      "metadata": {
        "id": "S-e7ikfd8ZdL",
        "colab": {
          "base_uri": "https://localhost:8080/"
        },
        "outputId": "92fabc2a-0e18-4697-ef94-24e466dcc5ab"
      },
      "execution_count": null,
      "outputs": [
        {
          "output_type": "stream",
          "name": "stdout",
          "text": [
            "[['aX' '-0.82' '-0.82' ... '-0.68' '-0.68' '-0.68']\n",
            " ['aY' '-0.54' '-0.54' ... '-0.68' '-0.68' '-0.69']\n",
            " ['aZ' '0.03' '0.03' ... '0.24' '0.25' '0.27']\n",
            " ['gX' '-1.34' '-1.59' ... '-10.8' '-11.23' '-12.27']\n",
            " ['gY' '-2.69' '-2.69' ... '11.35' '11.11' '11.11']\n",
            " ['gZ' '-2.69' '-2.69' ... '-11.23' '-11.23' '-11.05']]\n",
            "(6, 99961)\n"
          ]
        }
      ]
    },
    {
      "cell_type": "markdown",
      "source": [
        "# 4. Array segmentation \n",
        "\n",
        "Array segmented, so each row should be divided into segments of 238"
      ],
      "metadata": {
        "id": "kYFHE5892j6s"
      }
    },
    {
      "cell_type": "markdown",
      "source": [
        "Here we remove the first column or `arr`, since those labels are not numerical and hold the headers for axis/sensor which are not sensor data."
      ],
      "metadata": {
        "id": "wqgL95O5XtcC"
      }
    },
    {
      "cell_type": "code",
      "source": [
        "b = np.delete(arr, 0, axis=1)\n",
        "print(\"b = \", \"\\n\", b)\n",
        "print(\"\\n\", \"----------------------------\", \"\\n\", \"dimensions of b: \")\n",
        "\n",
        "b.shape"
      ],
      "metadata": {
        "id": "dAeJaG4XYNBy",
        "colab": {
          "base_uri": "https://localhost:8080/"
        },
        "outputId": "3e97d53d-5e71-451f-f064-d3a28bf15a2a"
      },
      "execution_count": null,
      "outputs": [
        {
          "output_type": "stream",
          "name": "stdout",
          "text": [
            "b =  \n",
            " [['-0.82' '-0.82' '-0.82' ... '-0.68' '-0.68' '-0.68']\n",
            " ['-0.54' '-0.54' '-0.54' ... '-0.68' '-0.68' '-0.69']\n",
            " ['0.03' '0.03' '0.02' ... '0.24' '0.25' '0.27']\n",
            " ['-1.34' '-1.59' '-1.53' ... '-10.8' '-11.23' '-12.27']\n",
            " ['-2.69' '-2.69' '-2.5' ... '11.35' '11.11' '11.11']\n",
            " ['-2.69' '-2.69' '-2.75' ... '-11.23' '-11.23' '-11.05']]\n",
            "\n",
            " ---------------------------- \n",
            " dimensions of b: \n"
          ]
        },
        {
          "output_type": "execute_result",
          "data": {
            "text/plain": [
              "(6, 99960)"
            ]
          },
          "metadata": {},
          "execution_count": 28
        }
      ]
    },
    {
      "cell_type": "markdown",
      "source": [
        "Next, each row of array `b`, is saved into seperate variables."
      ],
      "metadata": {
        "id": "vY_mwFmFYQ1D"
      }
    },
    {
      "cell_type": "code",
      "source": [
        "acc_x = b[0]\n",
        "acc_y = b[1]\n",
        "acc_z = b[2]\n",
        "gyr_x = b[3]\n",
        "gyr_y = b[4]\n",
        "gyr_z = b[5]"
      ],
      "metadata": {
        "id": "PFJubm0DYmYP"
      },
      "execution_count": null,
      "outputs": []
    },
    {
      "cell_type": "code",
      "source": [
        "acc_x.shape"
      ],
      "metadata": {
        "id": "pbON9V3R3o37",
        "colab": {
          "base_uri": "https://localhost:8080/"
        },
        "outputId": "5bf176e8-0a54-4c0d-ca92-2f27ef3dc073"
      },
      "execution_count": null,
      "outputs": [
        {
          "output_type": "execute_result",
          "data": {
            "text/plain": [
              "(99960,)"
            ]
          },
          "metadata": {},
          "execution_count": 30
        }
      ]
    },
    {
      "cell_type": "markdown",
      "source": [
        "Use `reshape` to segment the data 238, and use `dstak` to concatenate the data of all 6 axis"
      ],
      "metadata": {
        "id": "oomtye2SYo_K"
      }
    },
    {
      "cell_type": "code",
      "source": [
        "Acc_X = acc_x.reshape(420, 238)\n",
        "Acc_Y = acc_y.reshape(420, 238)\n",
        "Acc_Z = acc_z.reshape(420, 238)\n",
        "Gyr_X = gyr_x.reshape(420, 238)\n",
        "Gyr_Y = gyr_y.reshape(420, 238)\n",
        "Gyr_Z = gyr_z.reshape(420, 238)\n",
        "\n",
        "segmented=np.dstack((Acc_X,Acc_Y,Acc_Z,Gyr_X,Gyr_Y,Gyr_Z))\n",
        "print(type(segmented[0][0][0]))"
      ],
      "metadata": {
        "id": "amzvmvs9Yx-Q",
        "colab": {
          "base_uri": "https://localhost:8080/"
        },
        "outputId": "8acfb20d-1d4e-4245-8b89-bbe89df14a03"
      },
      "execution_count": null,
      "outputs": [
        {
          "output_type": "stream",
          "name": "stdout",
          "text": [
            "<class 'str'>\n"
          ]
        }
      ]
    },
    {
      "cell_type": "markdown",
      "source": [
        "Since segmented has string type data, it is converted to float so that we can use to for feature extraction"
      ],
      "metadata": {
        "id": "EOk4TqfVvnvX"
      }
    },
    {
      "cell_type": "code",
      "source": [
        "floatArray =segmented.astype(float)"
      ],
      "metadata": {
        "id": "TZLyIoxTZpbj"
      },
      "execution_count": null,
      "outputs": []
    },
    {
      "cell_type": "code",
      "source": [
        "floatArray[0][0][0]"
      ],
      "metadata": {
        "colab": {
          "base_uri": "https://localhost:8080/"
        },
        "id": "JJ7_pReBhahe",
        "outputId": "06a2c78b-33f1-4347-ba87-1c5880ba9b60"
      },
      "execution_count": null,
      "outputs": [
        {
          "output_type": "execute_result",
          "data": {
            "text/plain": [
              "-0.82"
            ]
          },
          "metadata": {},
          "execution_count": 33
        }
      ]
    },
    {
      "cell_type": "code",
      "source": [
        "print(type(floatArray[0][0][0]))"
      ],
      "metadata": {
        "colab": {
          "base_uri": "https://localhost:8080/"
        },
        "id": "GaNNhos0hQij",
        "outputId": "178a7970-f9a0-4023-f689-f173f416a25a"
      },
      "execution_count": null,
      "outputs": [
        {
          "output_type": "stream",
          "name": "stdout",
          "text": [
            "<class 'numpy.float64'>\n"
          ]
        }
      ]
    },
    {
      "cell_type": "markdown",
      "source": [
        "# 5. Label data "
      ],
      "metadata": {
        "id": "nllzD0AqsmTT"
      }
    },
    {
      "cell_type": "markdown",
      "source": [
        "1. Create a vector. \n",
        "2. First 60 elements would be the labels for activity 1, second 60 activity 2 ... last 60 would be for the last one.\n",
        "3. rotate the vector and dump it alongside the 3d array"
      ],
      "metadata": {
        "id": "dkDopgAxv1uk"
      }
    },
    {
      "cell_type": "code",
      "source": [
        "import pickle"
      ],
      "metadata": {
        "id": "E8z2-u3FbBXV"
      },
      "execution_count": null,
      "outputs": []
    },
    {
      "cell_type": "code",
      "source": [
        "from numpy.ma.core import transpose\n",
        "# Create the vector:\n",
        "# 1- first 60 elements would be the labels for activity 1, second 60 activity 2 ... last 60 would be for the last one.\n",
        "# 2- rotate the vector and dump it alongside your 3d array\n",
        "ans = []\n",
        "for i in range(0,7):\n",
        "  ans.append( np.full(60,i) )\n",
        "\n",
        "ans = np.array(ans).flatten()\n",
        "#ans1 = np.transpose(ans)\n",
        "#ans2=np.reshape(ans1,(720,1))\n",
        "\n",
        "ans3=np.array(ans,dtype=int)\n",
        "ans3.shape\n"
      ],
      "metadata": {
        "id": "KIwYsrt5gm67",
        "colab": {
          "base_uri": "https://localhost:8080/"
        },
        "outputId": "595f55d4-5533-405f-9f82-d490a3269617"
      },
      "execution_count": null,
      "outputs": [
        {
          "output_type": "execute_result",
          "data": {
            "text/plain": [
              "(420,)"
            ]
          },
          "metadata": {},
          "execution_count": 36
        }
      ]
    },
    {
      "cell_type": "code",
      "source": [
        "# store the 3d-array into the pkl file\n",
        "\n",
        "file_name = \"/gdrive/My Drive/Colab Notebooks/\"+ \"segmentdata.pkl\"\n",
        "file = open(file_name, \"wb\")\n",
        "pickle.dump((floatArray,ans3), file) # ---> this will be your array\n",
        "file.close()"
      ],
      "metadata": {
        "id": "Ckjvl3IYZT0b"
      },
      "execution_count": null,
      "outputs": []
    },
    {
      "cell_type": "markdown",
      "source": [
        "# 6. Feature extraction"
      ],
      "metadata": {
        "id": "C1aLPbedrztZ"
      }
    },
    {
      "cell_type": "markdown",
      "source": [
        "Data stored in the pkl file"
      ],
      "metadata": {
        "id": "RFh3tMQ0wFPA"
      }
    },
    {
      "cell_type": "code",
      "source": [
        "data_folder=\"/gdrive/My Drive/Colab Notebooks/final/\"\n",
        "os.listdir(data_folder)"
      ],
      "metadata": {
        "id": "Fex3jYjNplqm",
        "colab": {
          "base_uri": "https://localhost:8080/"
        },
        "outputId": "8a4f04ba-c44d-495a-8ba1-7cebc21cc6e9"
      },
      "execution_count": null,
      "outputs": [
        {
          "output_type": "execute_result",
          "data": {
            "text/plain": [
              "['activity_acc_gyr.pkl']"
            ]
          },
          "metadata": {},
          "execution_count": 4
        }
      ]
    },
    {
      "cell_type": "code",
      "source": [
        "def get_features(sensor_segment):\n",
        "    \"\"\"\n",
        "    Here, the sensor segment is one axis of a sensor.\n",
        "    \"\"\"\n",
        "    features = np.zeros(9) # we extract nine features\n",
        "    \n",
        "    # the first feature is the amplitude\n",
        "    features[0] = np.max(sensor_segment) - np.mean(sensor_segment)\n",
        "    \n",
        "    # the second feature is the median\n",
        "    features[1] = np.median(sensor_segment)\n",
        "    \n",
        "    # the third feature is the mean\n",
        "    features[2] = np.mean(sensor_segment)\n",
        "    \n",
        "    # the fourth feature is the max value\n",
        "    features[3] = np.max(sensor_segment)\n",
        "    \n",
        "    # the fifth feature is the min value\n",
        "    features[4] = np.min(sensor_segment)\n",
        "    \n",
        "    # the sixth feature is the peak to peak value\n",
        "    features[5] = features[3] - features[4]\n",
        "    \n",
        "    # the seventh feature is the standard deviation\n",
        "    features[6] = np.std(sensor_segment)\n",
        "    \n",
        "    # the eighth feature is the RMS value\n",
        "    features[7] = np.sqrt(np.mean(sensor_segment**2))\n",
        "    \n",
        "    # the ninth feature is the stand to end value\n",
        "    features[8] = sensor_segment[0] - sensor_segment[1]\n",
        "    #features[0] = sensor_segment[0]\n",
        "    \n",
        "    return features"
      ],
      "metadata": {
        "id": "R7gedCgJpX60"
      },
      "execution_count": null,
      "outputs": []
    },
    {
      "cell_type": "code",
      "source": [
        "def get_sensor_segments(file_path):\n",
        "    file = open(file_path, \"rb\")\n",
        "    X, Y_ = pickle.load(file)\n",
        "    file.close()\n",
        "    return X, Y_"
      ],
      "metadata": {
        "id": "UqwHh2ByeLm8"
      },
      "execution_count": null,
      "outputs": []
    },
    {
      "cell_type": "code",
      "source": [
        "def get_feature_names(sensor_type):\n",
        "    if sensor_type not in [\"acc\", \"gyro\", \"mag\"]:\n",
        "        raise ValueError(\"Sensor type not supported.\")\n",
        "        \n",
        "    feature_names = []\n",
        "    axis_name = \"Z\"\n",
        "    features = [\"AMP\", \"MED\", \"MEAN\", \"MAX\", \"MIN\", \"P2P\", \"STD\", \"RMF\", \"S2E\"]\n",
        "    \n",
        "    if sensor_type == \"acc\":\n",
        "        sensor_name = \"ACC\"\n",
        "    elif sensor_type == \"gyro\":\n",
        "        sensor_name = \"GYRO\"\n",
        "    \n",
        "    for axis in [\"Acc_X\", \"Acc_Y\", \"Acc_Z\",\"Gyr_X\", \"Gyr_Y\", \"Gyr_Z\"]:\n",
        "        for f in features:\n",
        "            feature_names.append(axis+\"-\"+f)\n",
        "    \n",
        "    return feature_names"
      ],
      "metadata": {
        "id": "3LVSmUaLpdu7"
      },
      "execution_count": null,
      "outputs": []
    },
    {
      "cell_type": "code",
      "source": [
        "def extract_features(file_path):\n",
        "    X, Y = get_sensor_segments(file_path)\n",
        "    #signal.resample_poly(X,1,40)\n",
        "    #X=X[:, ::2, :]\n",
        "    #X=X[:, :100, :3]\n",
        "    print(X.shape)\n",
        "    \n",
        "    \n",
        "    # the array to store the extracted features\n",
        "    final_features = []\n",
        "    \n",
        "    for segment in X:\n",
        "        # compute the features for each axis\n",
        "        temp_features = []\n",
        "        for i in range(6): \n",
        "            # get the axis segment\n",
        "            seg_axis = segment[:, i]\n",
        "            \n",
        "            # compute features\n",
        "            seg_features = get_features(seg_axis)\n",
        "            \n",
        "            # store the features\n",
        "            temp_features.extend(seg_features)\n",
        "        \n",
        "        # store the features in the final array\n",
        "        final_features.append(temp_features)\n",
        "        \n",
        "    return final_features, Y"
      ],
      "metadata": {
        "id": "1zJhm5i7phUI"
      },
      "execution_count": null,
      "outputs": []
    },
    {
      "cell_type": "code",
      "source": [
        "def extract_features_and_get_df(path, sensor_type):\n",
        "    feature, labels = extract_features(path)\n",
        "    data_df = pd.DataFrame(feature)\n",
        "    data_df['Label'] = labels\n",
        "    \n",
        "    return data_df"
      ],
      "metadata": {
        "id": "Zya8o3wFpigg"
      },
      "execution_count": null,
      "outputs": []
    },
    {
      "cell_type": "code",
      "source": [
        "for item in os.listdir(data_folder):\n",
        "    sensor_node_name = item[:item.rfind(\".\")]\n",
        "    sensor_name = sensor_node_name[sensor_node_name.rfind(\"_\")+1:]\n",
        "    sensor_segment_path = data_folder + item\n",
        "    save_path = \"../feature_extracted_data/\" + sensor_node_name +\"_features.pkl\"\n",
        "    \n",
        "    print(\"Processing {} ..\".format(sensor_node_name))\n",
        "\n",
        "    # get the pandas dataframe\n",
        "    data_df = extract_features_and_get_df(sensor_segment_path, sensor_name)   \n",
        "    print(data_df.shape)\n",
        "   \n",
        "  # save the dataframe\n",
        "  #  file = open(save_path, \"wb\")\n",
        "  #  pickle.dump(data_df, file)\n",
        "  #  file.close()    "
      ],
      "metadata": {
        "id": "PtGpsVBecN-w",
        "colab": {
          "base_uri": "https://localhost:8080/"
        },
        "outputId": "f31e0498-b73b-4d96-c63f-2b36642cb7eb"
      },
      "execution_count": null,
      "outputs": [
        {
          "output_type": "stream",
          "name": "stdout",
          "text": [
            "Processing activity_acc_gyr ..\n",
            "(420, 238, 6)\n",
            "(420, 55)\n"
          ]
        }
      ]
    },
    {
      "cell_type": "code",
      "source": [
        "from sklearn.model_selection import train_test_split\n",
        "Yt = data_df['Label'].values\n",
        "Xt = data_df.drop(['Label'], axis = 1)\n",
        "n_total_featues = Xt.shape[1]\n",
        "column_names = Xt.columns\n",
        "k_columns = pd.DataFrame(Xt.columns)\n",
        "n_total_featues, column_names"
      ],
      "metadata": {
        "colab": {
          "base_uri": "https://localhost:8080/"
        },
        "id": "DATUijx3j6VO",
        "outputId": "58946868-0b62-4398-f812-16e3797fbf32"
      },
      "execution_count": null,
      "outputs": [
        {
          "output_type": "execute_result",
          "data": {
            "text/plain": [
              "(54,\n",
              " Index([ 0,  1,  2,  3,  4,  5,  6,  7,  8,  9, 10, 11, 12, 13, 14, 15, 16, 17,\n",
              "        18, 19, 20, 21, 22, 23, 24, 25, 26, 27, 28, 29, 30, 31, 32, 33, 34, 35,\n",
              "        36, 37, 38, 39, 40, 41, 42, 43, 44, 45, 46, 47, 48, 49, 50, 51, 52, 53],\n",
              "       dtype='object'))"
            ]
          },
          "metadata": {},
          "execution_count": 14
        }
      ]
    },
    {
      "cell_type": "markdown",
      "source": [
        "Extracted features for all the accelerometer and gyroscope data for each activity"
      ],
      "metadata": {
        "id": "uvi-qnRNwRcL"
      }
    },
    {
      "cell_type": "code",
      "source": [
        "Xt.describe()"
      ],
      "metadata": {
        "colab": {
          "base_uri": "https://localhost:8080/",
          "height": 393
        },
        "id": "l46iKyMRk5NE",
        "outputId": "f0364929-6ead-43d5-eb1f-f9d7b2816db6"
      },
      "execution_count": null,
      "outputs": [
        {
          "output_type": "execute_result",
          "data": {
            "text/html": [
              "\n",
              "  <div id=\"df-e690f5c8-f04f-40bf-be19-fe29c6942f9a\">\n",
              "    <div class=\"colab-df-container\">\n",
              "      <div>\n",
              "<style scoped>\n",
              "    .dataframe tbody tr th:only-of-type {\n",
              "        vertical-align: middle;\n",
              "    }\n",
              "\n",
              "    .dataframe tbody tr th {\n",
              "        vertical-align: top;\n",
              "    }\n",
              "\n",
              "    .dataframe thead th {\n",
              "        text-align: right;\n",
              "    }\n",
              "</style>\n",
              "<table border=\"1\" class=\"dataframe\">\n",
              "  <thead>\n",
              "    <tr style=\"text-align: right;\">\n",
              "      <th></th>\n",
              "      <th>0</th>\n",
              "      <th>1</th>\n",
              "      <th>2</th>\n",
              "      <th>3</th>\n",
              "      <th>4</th>\n",
              "      <th>5</th>\n",
              "      <th>6</th>\n",
              "      <th>7</th>\n",
              "      <th>8</th>\n",
              "      <th>9</th>\n",
              "      <th>...</th>\n",
              "      <th>44</th>\n",
              "      <th>45</th>\n",
              "      <th>46</th>\n",
              "      <th>47</th>\n",
              "      <th>48</th>\n",
              "      <th>49</th>\n",
              "      <th>50</th>\n",
              "      <th>51</th>\n",
              "      <th>52</th>\n",
              "      <th>53</th>\n",
              "    </tr>\n",
              "  </thead>\n",
              "  <tbody>\n",
              "    <tr>\n",
              "      <th>count</th>\n",
              "      <td>420.000000</td>\n",
              "      <td>420.000000</td>\n",
              "      <td>420.000000</td>\n",
              "      <td>420.000000</td>\n",
              "      <td>420.000000</td>\n",
              "      <td>420.000000</td>\n",
              "      <td>420.000000</td>\n",
              "      <td>420.000000</td>\n",
              "      <td>420.000000</td>\n",
              "      <td>4.200000e+02</td>\n",
              "      <td>...</td>\n",
              "      <td>420.000000</td>\n",
              "      <td>420.000000</td>\n",
              "      <td>420.000000</td>\n",
              "      <td>420.000000</td>\n",
              "      <td>420.000000</td>\n",
              "      <td>420.000000</td>\n",
              "      <td>420.000000</td>\n",
              "      <td>420.000000</td>\n",
              "      <td>420.000000</td>\n",
              "      <td>420.000000</td>\n",
              "    </tr>\n",
              "    <tr>\n",
              "      <th>mean</th>\n",
              "      <td>0.417438</td>\n",
              "      <td>-0.379560</td>\n",
              "      <td>-0.393295</td>\n",
              "      <td>0.024143</td>\n",
              "      <td>-1.126786</td>\n",
              "      <td>1.150929</td>\n",
              "      <td>0.197997</td>\n",
              "      <td>0.522527</td>\n",
              "      <td>0.002262</td>\n",
              "      <td>4.450525e-01</td>\n",
              "      <td>...</td>\n",
              "      <td>-0.520762</td>\n",
              "      <td>53.428504</td>\n",
              "      <td>-4.560595</td>\n",
              "      <td>-3.306194</td>\n",
              "      <td>50.122310</td>\n",
              "      <td>-47.304833</td>\n",
              "      <td>97.427143</td>\n",
              "      <td>19.177841</td>\n",
              "      <td>20.902654</td>\n",
              "      <td>-0.023857</td>\n",
              "    </tr>\n",
              "    <tr>\n",
              "      <th>std</th>\n",
              "      <td>0.363119</td>\n",
              "      <td>0.347367</td>\n",
              "      <td>0.346268</td>\n",
              "      <td>0.370542</td>\n",
              "      <td>0.976433</td>\n",
              "      <td>1.101082</td>\n",
              "      <td>0.176829</td>\n",
              "      <td>0.268012</td>\n",
              "      <td>0.074612</td>\n",
              "      <td>3.690567e-01</td>\n",
              "      <td>...</td>\n",
              "      <td>7.802796</td>\n",
              "      <td>48.612564</td>\n",
              "      <td>7.553088</td>\n",
              "      <td>7.227032</td>\n",
              "      <td>48.878425</td>\n",
              "      <td>38.814339</td>\n",
              "      <td>81.721932</td>\n",
              "      <td>14.574486</td>\n",
              "      <td>14.363366</td>\n",
              "      <td>4.233732</td>\n",
              "    </tr>\n",
              "    <tr>\n",
              "      <th>min</th>\n",
              "      <td>0.000000</td>\n",
              "      <td>-0.935000</td>\n",
              "      <td>-0.909580</td>\n",
              "      <td>-0.700000</td>\n",
              "      <td>-4.000000</td>\n",
              "      <td>0.000000</td>\n",
              "      <td>0.000000</td>\n",
              "      <td>0.098160</td>\n",
              "      <td>-0.510000</td>\n",
              "      <td>-5.551115e-17</td>\n",
              "      <td>...</td>\n",
              "      <td>-54.140000</td>\n",
              "      <td>0.239664</td>\n",
              "      <td>-37.020000</td>\n",
              "      <td>-35.360462</td>\n",
              "      <td>-3.050000</td>\n",
              "      <td>-257.140000</td>\n",
              "      <td>0.480000</td>\n",
              "      <td>0.100972</td>\n",
              "      <td>2.047442</td>\n",
              "      <td>-18.430000</td>\n",
              "    </tr>\n",
              "    <tr>\n",
              "      <th>25%</th>\n",
              "      <td>0.023750</td>\n",
              "      <td>-0.671250</td>\n",
              "      <td>-0.679622</td>\n",
              "      <td>-0.190000</td>\n",
              "      <td>-1.767500</td>\n",
              "      <td>0.040000</td>\n",
              "      <td>0.009373</td>\n",
              "      <td>0.189216</td>\n",
              "      <td>-0.010000</td>\n",
              "      <td>2.426471e-02</td>\n",
              "      <td>...</td>\n",
              "      <td>-1.650000</td>\n",
              "      <td>1.910105</td>\n",
              "      <td>-5.592500</td>\n",
              "      <td>-4.547290</td>\n",
              "      <td>-0.897500</td>\n",
              "      <td>-69.520000</td>\n",
              "      <td>4.187500</td>\n",
              "      <td>0.605253</td>\n",
              "      <td>3.153563</td>\n",
              "      <td>-1.175000</td>\n",
              "    </tr>\n",
              "    <tr>\n",
              "      <th>50%</th>\n",
              "      <td>0.366891</td>\n",
              "      <td>-0.500000</td>\n",
              "      <td>-0.513739</td>\n",
              "      <td>0.160000</td>\n",
              "      <td>-0.830000</td>\n",
              "      <td>0.910000</td>\n",
              "      <td>0.168940</td>\n",
              "      <td>0.615325</td>\n",
              "      <td>0.000000</td>\n",
              "      <td>4.389496e-01</td>\n",
              "      <td>...</td>\n",
              "      <td>-0.060000</td>\n",
              "      <td>52.435903</td>\n",
              "      <td>-3.095000</td>\n",
              "      <td>-3.033676</td>\n",
              "      <td>49.045000</td>\n",
              "      <td>-47.360000</td>\n",
              "      <td>102.170000</td>\n",
              "      <td>21.712564</td>\n",
              "      <td>22.599800</td>\n",
              "      <td>0.000000</td>\n",
              "    </tr>\n",
              "    <tr>\n",
              "      <th>75%</th>\n",
              "      <td>0.676639</td>\n",
              "      <td>-0.010000</td>\n",
              "      <td>-0.025861</td>\n",
              "      <td>0.250000</td>\n",
              "      <td>-0.460000</td>\n",
              "      <td>1.745000</td>\n",
              "      <td>0.298981</td>\n",
              "      <td>0.719773</td>\n",
              "      <td>0.020000</td>\n",
              "      <td>6.362920e-01</td>\n",
              "      <td>...</td>\n",
              "      <td>1.040000</td>\n",
              "      <td>75.776534</td>\n",
              "      <td>-2.552500</td>\n",
              "      <td>-1.689359</td>\n",
              "      <td>72.905000</td>\n",
              "      <td>-4.745000</td>\n",
              "      <td>141.120000</td>\n",
              "      <td>29.420805</td>\n",
              "      <td>30.920490</td>\n",
              "      <td>1.100000</td>\n",
              "    </tr>\n",
              "    <tr>\n",
              "      <th>max</th>\n",
              "      <td>1.746050</td>\n",
              "      <td>0.320000</td>\n",
              "      <td>0.318109</td>\n",
              "      <td>1.330000</td>\n",
              "      <td>0.300000</td>\n",
              "      <td>5.020000</td>\n",
              "      <td>0.807961</td>\n",
              "      <td>1.119914</td>\n",
              "      <td>0.750000</td>\n",
              "      <td>1.612521e+00</td>\n",
              "      <td>...</td>\n",
              "      <td>82.700000</td>\n",
              "      <td>363.268992</td>\n",
              "      <td>24.230000</td>\n",
              "      <td>29.290756</td>\n",
              "      <td>366.640000</td>\n",
              "      <td>-3.050000</td>\n",
              "      <td>468.930000</td>\n",
              "      <td>71.328211</td>\n",
              "      <td>71.870764</td>\n",
              "      <td>26.360000</td>\n",
              "    </tr>\n",
              "  </tbody>\n",
              "</table>\n",
              "<p>8 rows × 54 columns</p>\n",
              "</div>\n",
              "      <button class=\"colab-df-convert\" onclick=\"convertToInteractive('df-e690f5c8-f04f-40bf-be19-fe29c6942f9a')\"\n",
              "              title=\"Convert this dataframe to an interactive table.\"\n",
              "              style=\"display:none;\">\n",
              "        \n",
              "  <svg xmlns=\"http://www.w3.org/2000/svg\" height=\"24px\"viewBox=\"0 0 24 24\"\n",
              "       width=\"24px\">\n",
              "    <path d=\"M0 0h24v24H0V0z\" fill=\"none\"/>\n",
              "    <path d=\"M18.56 5.44l.94 2.06.94-2.06 2.06-.94-2.06-.94-.94-2.06-.94 2.06-2.06.94zm-11 1L8.5 8.5l.94-2.06 2.06-.94-2.06-.94L8.5 2.5l-.94 2.06-2.06.94zm10 10l.94 2.06.94-2.06 2.06-.94-2.06-.94-.94-2.06-.94 2.06-2.06.94z\"/><path d=\"M17.41 7.96l-1.37-1.37c-.4-.4-.92-.59-1.43-.59-.52 0-1.04.2-1.43.59L10.3 9.45l-7.72 7.72c-.78.78-.78 2.05 0 2.83L4 21.41c.39.39.9.59 1.41.59.51 0 1.02-.2 1.41-.59l7.78-7.78 2.81-2.81c.8-.78.8-2.07 0-2.86zM5.41 20L4 18.59l7.72-7.72 1.47 1.35L5.41 20z\"/>\n",
              "  </svg>\n",
              "      </button>\n",
              "      \n",
              "  <style>\n",
              "    .colab-df-container {\n",
              "      display:flex;\n",
              "      flex-wrap:wrap;\n",
              "      gap: 12px;\n",
              "    }\n",
              "\n",
              "    .colab-df-convert {\n",
              "      background-color: #E8F0FE;\n",
              "      border: none;\n",
              "      border-radius: 50%;\n",
              "      cursor: pointer;\n",
              "      display: none;\n",
              "      fill: #1967D2;\n",
              "      height: 32px;\n",
              "      padding: 0 0 0 0;\n",
              "      width: 32px;\n",
              "    }\n",
              "\n",
              "    .colab-df-convert:hover {\n",
              "      background-color: #E2EBFA;\n",
              "      box-shadow: 0px 1px 2px rgba(60, 64, 67, 0.3), 0px 1px 3px 1px rgba(60, 64, 67, 0.15);\n",
              "      fill: #174EA6;\n",
              "    }\n",
              "\n",
              "    [theme=dark] .colab-df-convert {\n",
              "      background-color: #3B4455;\n",
              "      fill: #D2E3FC;\n",
              "    }\n",
              "\n",
              "    [theme=dark] .colab-df-convert:hover {\n",
              "      background-color: #434B5C;\n",
              "      box-shadow: 0px 1px 3px 1px rgba(0, 0, 0, 0.15);\n",
              "      filter: drop-shadow(0px 1px 2px rgba(0, 0, 0, 0.3));\n",
              "      fill: #FFFFFF;\n",
              "    }\n",
              "  </style>\n",
              "\n",
              "      <script>\n",
              "        const buttonEl =\n",
              "          document.querySelector('#df-e690f5c8-f04f-40bf-be19-fe29c6942f9a button.colab-df-convert');\n",
              "        buttonEl.style.display =\n",
              "          google.colab.kernel.accessAllowed ? 'block' : 'none';\n",
              "\n",
              "        async function convertToInteractive(key) {\n",
              "          const element = document.querySelector('#df-e690f5c8-f04f-40bf-be19-fe29c6942f9a');\n",
              "          const dataTable =\n",
              "            await google.colab.kernel.invokeFunction('convertToInteractive',\n",
              "                                                     [key], {});\n",
              "          if (!dataTable) return;\n",
              "\n",
              "          const docLinkHtml = 'Like what you see? Visit the ' +\n",
              "            '<a target=\"_blank\" href=https://colab.research.google.com/notebooks/data_table.ipynb>data table notebook</a>'\n",
              "            + ' to learn more about interactive tables.';\n",
              "          element.innerHTML = '';\n",
              "          dataTable['output_type'] = 'display_data';\n",
              "          await google.colab.output.renderOutput(dataTable, element);\n",
              "          const docLink = document.createElement('div');\n",
              "          docLink.innerHTML = docLinkHtml;\n",
              "          element.appendChild(docLink);\n",
              "        }\n",
              "      </script>\n",
              "    </div>\n",
              "  </div>\n",
              "  "
            ],
            "text/plain": [
              "               0           1           2           3           4           5   \\\n",
              "count  420.000000  420.000000  420.000000  420.000000  420.000000  420.000000   \n",
              "mean     0.417438   -0.379560   -0.393295    0.024143   -1.126786    1.150929   \n",
              "std      0.363119    0.347367    0.346268    0.370542    0.976433    1.101082   \n",
              "min      0.000000   -0.935000   -0.909580   -0.700000   -4.000000    0.000000   \n",
              "25%      0.023750   -0.671250   -0.679622   -0.190000   -1.767500    0.040000   \n",
              "50%      0.366891   -0.500000   -0.513739    0.160000   -0.830000    0.910000   \n",
              "75%      0.676639   -0.010000   -0.025861    0.250000   -0.460000    1.745000   \n",
              "max      1.746050    0.320000    0.318109    1.330000    0.300000    5.020000   \n",
              "\n",
              "               6           7           8             9   ...          44  \\\n",
              "count  420.000000  420.000000  420.000000  4.200000e+02  ...  420.000000   \n",
              "mean     0.197997    0.522527    0.002262  4.450525e-01  ...   -0.520762   \n",
              "std      0.176829    0.268012    0.074612  3.690567e-01  ...    7.802796   \n",
              "min      0.000000    0.098160   -0.510000 -5.551115e-17  ...  -54.140000   \n",
              "25%      0.009373    0.189216   -0.010000  2.426471e-02  ...   -1.650000   \n",
              "50%      0.168940    0.615325    0.000000  4.389496e-01  ...   -0.060000   \n",
              "75%      0.298981    0.719773    0.020000  6.362920e-01  ...    1.040000   \n",
              "max      0.807961    1.119914    0.750000  1.612521e+00  ...   82.700000   \n",
              "\n",
              "               45          46          47          48          49          50  \\\n",
              "count  420.000000  420.000000  420.000000  420.000000  420.000000  420.000000   \n",
              "mean    53.428504   -4.560595   -3.306194   50.122310  -47.304833   97.427143   \n",
              "std     48.612564    7.553088    7.227032   48.878425   38.814339   81.721932   \n",
              "min      0.239664  -37.020000  -35.360462   -3.050000 -257.140000    0.480000   \n",
              "25%      1.910105   -5.592500   -4.547290   -0.897500  -69.520000    4.187500   \n",
              "50%     52.435903   -3.095000   -3.033676   49.045000  -47.360000  102.170000   \n",
              "75%     75.776534   -2.552500   -1.689359   72.905000   -4.745000  141.120000   \n",
              "max    363.268992   24.230000   29.290756  366.640000   -3.050000  468.930000   \n",
              "\n",
              "               51          52          53  \n",
              "count  420.000000  420.000000  420.000000  \n",
              "mean    19.177841   20.902654   -0.023857  \n",
              "std     14.574486   14.363366    4.233732  \n",
              "min      0.100972    2.047442  -18.430000  \n",
              "25%      0.605253    3.153563   -1.175000  \n",
              "50%     21.712564   22.599800    0.000000  \n",
              "75%     29.420805   30.920490    1.100000  \n",
              "max     71.328211   71.870764   26.360000  \n",
              "\n",
              "[8 rows x 54 columns]"
            ]
          },
          "metadata": {},
          "execution_count": 15
        }
      ]
    },
    {
      "cell_type": "markdown",
      "source": [
        "# 7. Feature Selection\n"
      ],
      "metadata": {
        "id": "CFiJiE0imunH"
      }
    },
    {
      "cell_type": "code",
      "source": [
        "\n",
        "np.unique(Yt, return_counts=True)"
      ],
      "metadata": {
        "id": "F91VKH6mK_p8",
        "colab": {
          "base_uri": "https://localhost:8080/"
        },
        "outputId": "527b5bd3-49f0-4101-a28b-645914d147e1"
      },
      "execution_count": null,
      "outputs": [
        {
          "output_type": "execute_result",
          "data": {
            "text/plain": [
              "(array([0, 1, 2, 3, 4, 5, 6]), array([60, 60, 60, 60, 60, 60, 60]))"
            ]
          },
          "metadata": {},
          "execution_count": 49
        }
      ]
    },
    {
      "cell_type": "markdown",
      "source": [
        "Selecting four features out of the calculated 54 features using Recursive method"
      ],
      "metadata": {
        "id": "LFjN4aARwbsF"
      }
    },
    {
      "cell_type": "code",
      "source": [
        "n_features_to_select = 4"
      ],
      "metadata": {
        "id": "hTUyMJ-c4Ytu"
      },
      "execution_count": null,
      "outputs": []
    },
    {
      "cell_type": "code",
      "source": [
        "# With Recursive Method\n",
        "from sklearn.feature_selection import RFE\n",
        "estimator = DecisionTreeClassifier()\n",
        "selector = RFE(estimator, n_features_to_select=n_features_to_select)"
      ],
      "metadata": {
        "id": "fy-UvUTs4cke"
      },
      "execution_count": null,
      "outputs": []
    },
    {
      "cell_type": "code",
      "source": [
        "selector.fit(x_train, y_train)"
      ],
      "metadata": {
        "colab": {
          "base_uri": "https://localhost:8080/"
        },
        "id": "6zR_CS3W4gmM",
        "outputId": "92d8f96f-9c28-4adf-8ff2-03973766dcfe"
      },
      "execution_count": null,
      "outputs": [
        {
          "output_type": "execute_result",
          "data": {
            "text/plain": [
              "RFE(estimator=DecisionTreeClassifier(), n_features_to_select=4)"
            ]
          },
          "metadata": {},
          "execution_count": 78
        }
      ]
    },
    {
      "cell_type": "code",
      "source": [
        "print(\"The selected features with Recursive Method are\")\n",
        "rfe_selected = k_columns.values[selector.support_].reshape(-1)\n",
        "rfe_selected"
      ],
      "metadata": {
        "colab": {
          "base_uri": "https://localhost:8080/"
        },
        "id": "ggSTBT184khu",
        "outputId": "3ea1d488-d957-4a86-d0e0-c4c51684cff3"
      },
      "execution_count": null,
      "outputs": [
        {
          "output_type": "stream",
          "name": "stdout",
          "text": [
            "The selected features with Recursive Method are\n"
          ]
        },
        {
          "output_type": "execute_result",
          "data": {
            "text/plain": [
              "array([2, 6, 7, 19], dtype=object)"
            ]
          },
          "metadata": {},
          "execution_count": 79
        }
      ]
    },
    {
      "cell_type": "markdown",
      "source": [
        "#### The selected Features are: \n",
        "\n",
        "*  Mean for Acc_X\n",
        "*  Standard Deviation for Acc_X\n",
        "*  RMS for Acc_X\n",
        "*  Median for Acc_Z\n",
        "\n",
        "  "
      ],
      "metadata": {
        "id": "UKv4s-6dwoAa"
      }
    },
    {
      "cell_type": "code",
      "execution_count": null,
      "metadata": {
        "colab": {
          "base_uri": "https://localhost:8080/"
        },
        "id": "AWpF1ub7VfpF",
        "outputId": "c90d8b20-7d30-4529-8304-fb24b9810279"
      },
      "outputs": [
        {
          "output_type": "stream",
          "name": "stdout",
          "text": [
            "DT  0.7714285714285715\n",
            "SVM 0.5380952380952381\n",
            "RF  0.9380952380952381\n",
            "KNN 0.7428571428571429\n",
            "LR  0.7904761904761904\n",
            "[[30  0  0  0  1  1  0]\n",
            " [ 2 33  0  1  0  0  1]\n",
            " [ 0  2 27  0  1  1  0]\n",
            " [ 0  0  0 29  0  0  0]\n",
            " [ 1  0  0  0 22  0  0]\n",
            " [ 0  0  0  0  1 25  0]\n",
            " [ 0  0  0  0  1  0 31]]\n"
          ]
        }
      ],
      "source": [
        "from sklearn.metrics import accuracy_score\n",
        "from sklearn.datasets import make_classification\n",
        "from sklearn.ensemble import RandomForestClassifier, AdaBoostClassifier\n",
        "from sklearn.metrics import confusion_matrix\n",
        "from sklearn.model_selection import cross_val_predict\n",
        "from sklearn.tree import DecisionTreeClassifier\n",
        "from sklearn.svm import LinearSVC, SVC\n",
        "from sklearn.linear_model import LogisticRegression\n",
        "from sklearn.neighbors import KNeighborsClassifier\n",
        "\n",
        "x_train, x_test, y_train, y_test = train_test_split(Xt, Yt,test_size=0.5, random_state=42)\n",
        "\n",
        "clf0 = DecisionTreeClassifier(max_depth=4)\n",
        "clf1 = SVC()\n",
        "clf2 = RandomForestClassifier()\n",
        "clf4 = KNeighborsClassifier()\n",
        "clf5 =  LogisticRegression(solver='liblinear', random_state=0)\n",
        "\n",
        "clf0.fit(x_train[rfe_selected], y_train)\n",
        "clf1.fit(x_train, y_train)\n",
        "clf2.fit(x_train, y_train)\n",
        "clf4.fit(x_train, y_train)\n",
        "clf5.fit(x_train, y_train)\n",
        "print('DT  {}'.format(clf0.score(x_test[rfe_selected], y_test)))\n",
        "print('SVM {}'.format(clf1.score(x_test, y_test)))\n",
        "print('RF  {}'.format(clf2.score(x_test, y_test)))\n",
        "print('KNN {}'.format(clf4.score(x_test, y_test)))\n",
        "print('LR  {}'.format(clf5.score(x_test, y_test)))\n",
        "y_pred = clf2.fit(x_train, y_train).predict(x_test)\n",
        "\n",
        "y_pred = pd.Series(y_pred)\n",
        "print(confusion_matrix(y_test, y_pred))"
      ]
    },
    {
      "cell_type": "markdown",
      "source": [
        "The Decision Tree was taken and coded into the C file which was loaded into the Arduino. The 4 features were also calculated in the C file. "
      ],
      "metadata": {
        "id": "4VsuDta8xVP8"
      }
    },
    {
      "cell_type": "code",
      "source": [
        "from sklearn import tree\n",
        "text_representation = tree.export_text(clf0)\n",
        "print(text_representation)"
      ],
      "metadata": {
        "colab": {
          "base_uri": "https://localhost:8080/"
        },
        "id": "sSVLA3A3m8t6",
        "outputId": "33dc9584-f815-45ce-a4f5-d777404d95fc"
      },
      "execution_count": null,
      "outputs": [
        {
          "output_type": "stream",
          "name": "stdout",
          "text": [
            "|--- feature_3 <= 0.79\n",
            "|   |--- feature_1 <= 0.05\n",
            "|   |   |--- feature_0 <= -0.46\n",
            "|   |   |   |--- class: 6\n",
            "|   |   |--- feature_0 >  -0.46\n",
            "|   |   |   |--- class: 1\n",
            "|   |--- feature_1 >  0.05\n",
            "|   |   |--- feature_2 <= 0.61\n",
            "|   |   |   |--- feature_2 <= 0.39\n",
            "|   |   |   |   |--- class: 1\n",
            "|   |   |   |--- feature_2 >  0.39\n",
            "|   |   |   |   |--- class: 0\n",
            "|   |   |--- feature_2 >  0.61\n",
            "|   |   |   |--- feature_0 <= -0.63\n",
            "|   |   |   |   |--- class: 5\n",
            "|   |   |   |--- feature_0 >  -0.63\n",
            "|   |   |   |   |--- class: 4\n",
            "|--- feature_3 >  0.79\n",
            "|   |--- class: 3\n",
            "\n"
          ]
        }
      ]
    },
    {
      "cell_type": "markdown",
      "source": [
        "# 8. One Class Classification"
      ],
      "metadata": {
        "id": "rAXnsrSVm4gm"
      }
    },
    {
      "cell_type": "code",
      "source": [
        "dft = data_df\n",
        "p1 = dft[data_df.Label == 2]\n",
        "p1 = p1[1:201]\n",
        "p1.shape"
      ],
      "metadata": {
        "colab": {
          "base_uri": "https://localhost:8080/"
        },
        "id": "tNTzj1b3n9OI",
        "outputId": "3e4d972f-7f2f-4f0c-d40f-013e82f78442"
      },
      "execution_count": null,
      "outputs": [
        {
          "output_type": "execute_result",
          "data": {
            "text/plain": [
              "(59, 55)"
            ]
          },
          "metadata": {},
          "execution_count": 16
        }
      ]
    },
    {
      "cell_type": "code",
      "source": [
        "y1 = p1['Label'].values\n",
        "x1 = p1.drop(['Label'], axis = 1)\n",
        "x1.shape"
      ],
      "metadata": {
        "colab": {
          "base_uri": "https://localhost:8080/"
        },
        "id": "8hIQJrI4p_gq",
        "outputId": "63d08948-264c-4bcc-92b1-19ff361e41fe"
      },
      "execution_count": null,
      "outputs": [
        {
          "output_type": "execute_result",
          "data": {
            "text/plain": [
              "(59, 54)"
            ]
          },
          "metadata": {},
          "execution_count": 18
        }
      ]
    },
    {
      "cell_type": "code",
      "source": [
        "Y = dft['Label'].values\n",
        "X = dft.drop(['Label'], axis = 1)\n",
        "X.shape"
      ],
      "metadata": {
        "colab": {
          "base_uri": "https://localhost:8080/"
        },
        "id": "KftIomplp7an",
        "outputId": "b934fb0b-34fc-4ea8-fe10-d9f4e94797d3"
      },
      "execution_count": null,
      "outputs": [
        {
          "output_type": "execute_result",
          "data": {
            "text/plain": [
              "(420, 54)"
            ]
          },
          "metadata": {},
          "execution_count": 17
        }
      ]
    },
    {
      "cell_type": "code",
      "source": [
        "Yt = dftt['Label'].values\n",
        "Xt = dftt.drop(['Label'], axis = 1)\n",
        "Xt.shape"
      ],
      "metadata": {
        "colab": {
          "base_uri": "https://localhost:8080/"
        },
        "id": "o0EulpbWqFWU",
        "outputId": "9f983883-3d4c-41dd-e37d-88ea5fd53ffd"
      },
      "execution_count": null,
      "outputs": [
        {
          "output_type": "execute_result",
          "data": {
            "text/plain": [
              "(240, 54)"
            ]
          },
          "metadata": {},
          "execution_count": 22
        }
      ]
    },
    {
      "cell_type": "code",
      "source": [
        "dftt = data_df[data_df.Label >= 3]"
      ],
      "metadata": {
        "id": "uFe_7cpGqBVa"
      },
      "execution_count": null,
      "outputs": []
    },
    {
      "cell_type": "code",
      "source": [
        "X_values = X.values\n",
        "n_total_featues = X.shape[1]\n",
        "column_names = X.columns\n",
        "k_columns = pd.DataFrame(X.columns)\n",
        "n_total_featues, column_names"
      ],
      "metadata": {
        "colab": {
          "base_uri": "https://localhost:8080/"
        },
        "id": "CvMp4A8xqSsQ",
        "outputId": "d9d7f13c-0b6a-47fd-d1c1-a3451ed35ed3"
      },
      "execution_count": null,
      "outputs": [
        {
          "output_type": "execute_result",
          "data": {
            "text/plain": [
              "(54,\n",
              " Index([ 0,  1,  2,  3,  4,  5,  6,  7,  8,  9, 10, 11, 12, 13, 14, 15, 16, 17,\n",
              "        18, 19, 20, 21, 22, 23, 24, 25, 26, 27, 28, 29, 30, 31, 32, 33, 34, 35,\n",
              "        36, 37, 38, 39, 40, 41, 42, 43, 44, 45, 46, 47, 48, 49, 50, 51, 52, 53],\n",
              "       dtype='object'))"
            ]
          },
          "metadata": {},
          "execution_count": 23
        }
      ]
    },
    {
      "cell_type": "code",
      "source": [
        "x1_values = x1.values\n",
        "n_total_featues = x1.shape[1]\n",
        "column_names = x1.columns\n",
        "k_columns = pd.DataFrame(x1.columns)\n",
        "n_total_featues, column_names"
      ],
      "metadata": {
        "colab": {
          "base_uri": "https://localhost:8080/"
        },
        "id": "AszlwtlAqWrC",
        "outputId": "872e07d0-1066-439b-a3a0-f7e21d5b5a96"
      },
      "execution_count": null,
      "outputs": [
        {
          "output_type": "execute_result",
          "data": {
            "text/plain": [
              "(54,\n",
              " Index([ 0,  1,  2,  3,  4,  5,  6,  7,  8,  9, 10, 11, 12, 13, 14, 15, 16, 17,\n",
              "        18, 19, 20, 21, 22, 23, 24, 25, 26, 27, 28, 29, 30, 31, 32, 33, 34, 35,\n",
              "        36, 37, 38, 39, 40, 41, 42, 43, 44, 45, 46, 47, 48, 49, 50, 51, 52, 53],\n",
              "       dtype='object'))"
            ]
          },
          "metadata": {},
          "execution_count": 24
        }
      ]
    },
    {
      "cell_type": "code",
      "source": [
        "np.unique(Y, return_counts=True)\n",
        "np.unique(y1, return_counts=True)"
      ],
      "metadata": {
        "colab": {
          "base_uri": "https://localhost:8080/"
        },
        "id": "vKwVLCImqYEH",
        "outputId": "33c8c940-35b6-405f-e9d9-c5e4875b7fe3"
      },
      "execution_count": null,
      "outputs": [
        {
          "output_type": "execute_result",
          "data": {
            "text/plain": [
              "(array([2]), array([59]))"
            ]
          },
          "metadata": {},
          "execution_count": 25
        }
      ]
    },
    {
      "cell_type": "code",
      "source": [
        "def get_x_y_for_level(X_total, Y_total, level_labels):\n",
        "    X = pd.DataFrame(columns=column_names)\n",
        "    Y = []\n",
        "    \n",
        "    for p in level_labels:\n",
        "        index = np.where(Y_total == p)\n",
        "        \n",
        "        x = X_total[index]\n",
        "        y = Y_total[index]\n",
        "        x_df = pd.DataFrame(x, columns=column_names)\n",
        "\n",
        "        X = pd.concat([X, x_df], axis=0)\n",
        "        Y.extend(y)\n",
        "        \n",
        "    print(X.shape, len(Y))\n",
        "    X = X.reset_index(drop = True)\n",
        "    return X, Y"
      ],
      "metadata": {
        "id": "HtPXeV3CnYAq"
      },
      "execution_count": null,
      "outputs": []
    },
    {
      "cell_type": "code",
      "source": [
        "test_labels = [2]\n",
        "train_labels = [0,1,2,3,4]"
      ],
      "metadata": {
        "id": "sX1CAYKmqv-F"
      },
      "execution_count": null,
      "outputs": []
    },
    {
      "cell_type": "markdown",
      "source": [
        "## Get Seen and Unseen Data"
      ],
      "metadata": {
        "id": "HVx3xrjmxi8p"
      }
    },
    {
      "cell_type": "code",
      "source": [
        "#Get the unseen data\n",
        "x_tst, y_tst= get_x_y_for_level (X_values, Y, train_labels)\n",
        "print(len(x_tst))\n",
        "#Get the seen data\n",
        "x_n, y_n= get_x_y_for_level (X_values, Y, test_labels)\n",
        "#Label \"0\" for the seen data\n",
        "y_train = np.zeros_like(y1)\n",
        "#Merge the unseen data with a part of the seen data\n",
        "x_test = pd.concat([x_tst, x_n], axis = 0).reset_index(drop=True)\n",
        "print(len(x_test))\n",
        "print(len(x1))\n",
        "#Label \"1\" for the unseen data\n",
        "y_test = np.ones_like(y_tst)\n",
        "#Merge the unseen data with a part of the seen data with the right labels\n",
        "y_test = np.concatenate([y_test, np.zeros_like(y_n)])"
      ],
      "metadata": {
        "colab": {
          "base_uri": "https://localhost:8080/"
        },
        "id": "kMNyr876nlZb",
        "outputId": "869ee69d-be9a-4923-b931-d1306b6583fd"
      },
      "execution_count": null,
      "outputs": [
        {
          "output_type": "stream",
          "name": "stdout",
          "text": [
            "(300, 54) 300\n",
            "300\n",
            "(60, 54) 60\n",
            "360\n",
            "59\n"
          ]
        }
      ]
    },
    {
      "cell_type": "code",
      "source": [
        "from sklearn.feature_selection import RFE\n",
        "from sklearn.svm import LinearSVC, SVC\n",
        "from sklearn.ensemble import RandomForestClassifier, AdaBoostClassifier\n",
        "from sklearn.tree import DecisionTreeClassifier\n",
        "from sklearn.neighbors import KNeighborsClassifier\n",
        "from sklearn.svm import OneClassSVM\n",
        "from sklearn import linear_model\n",
        "from sklearn.model_selection import LeaveOneOut\n",
        "from sklearn.gaussian_process import GaussianProcessClassifier\n",
        "from sklearn.neural_network import MLPClassifier\n",
        "from scipy import signal\n",
        "from sklearn.utils import resample\n",
        "from sklearn.metrics import confusion_matrix\n",
        "from sklearn.feature_selection import SelectKBest\n",
        "from sklearn.feature_selection import chi2\n",
        "from sklearn.feature_selection import SelectKBest, f_classif\n",
        "from sklearn.naive_bayes import GaussianNB\n",
        "from sklearn.linear_model import LogisticRegression\n",
        "from sklearn.tree import export_graphviz\n",
        "from IPython.display import Image  \n",
        "import pydotplus\n",
        "from sklearn import tree\n",
        "from pydot import graph_from_dot_data\n",
        "from sklearn.svm import OneClassSVM\n",
        "from sklearn.decomposition import PCA\n",
        "from sklearn.ensemble import ExtraTreesClassifier\n",
        "from sklearn.linear_model import Perceptron\n",
        "from sklearn.ensemble import GradientBoostingClassifier\n",
        "from sklearn.model_selection import KFold\n",
        "from sklearn.metrics import f1_score\n",
        "from sklearn.metrics import classification_report\n",
        "from sklearn.metrics import matthews_corrcoef\n",
        "from sklearn.metrics import precision_recall_fscore_support\n",
        "from sklearn.model_selection import cross_val_predict\n",
        "from sklearn.metrics import confusion_matrix\n",
        "from sklearn.model_selection import cross_val_score\n",
        "import random\n",
        "from sklearn.metrics import f1_score\n",
        "from sklearn.svm import OneClassSVM\n",
        "from sklearn.model_selection import train_test_split\n",
        "from sklearn.ensemble import IsolationForest\n",
        "from sklearn.covariance import EllipticEnvelope\n",
        "from sklearn.neighbors import LocalOutlierFactor\n",
        "from numpy import vstack\n",
        "from sklearn.model_selection import LeaveOneOut\n",
        "from sklearn.model_selection import LeavePOut\n",
        "from sklearn.model_selection import LeavePGroupsOut\n",
        "from itertools import combinations\n",
        "from sklearn.metrics import accuracy_score\n",
        "from google.colab import drive"
      ],
      "metadata": {
        "id": "o07BKPm7rftw"
      },
      "execution_count": null,
      "outputs": []
    },
    {
      "cell_type": "markdown",
      "source": [
        "The unseen data is denoted by -1 in the confusion matrix. As seen in the confusion matrix, the recall for unseen data is 85% for this dataset and the precision is 94%. "
      ],
      "metadata": {
        "id": "xR7kQSdNyBoX"
      }
    },
    {
      "cell_type": "code",
      "source": [
        "#https://scikit-learn.org/stable/modules/generated/sklearn.svm.OneClassSVM.html\n",
        "model = OneClassSVM(kernel= 'rbf',gamma=0.5, nu=0.2)\n",
        "\n",
        "#https://scikit-learn.org/stable/modules/generated/sklearn.ensemble.IsolationForest.html#sklearn.ensemble.IsolationForest\n",
        "# model1 = IsolationForest(n_estimators=100 ,contamination='auto',max_features=81)\n",
        "\n",
        "# train the models using a portion of the seen data\n",
        "model.fit(x1)\n",
        "# model1.fit(x1)\n",
        "\n",
        "# detect outliers in the test set\n",
        "yhat = model.predict(x_test)\n",
        "# yhat1 = model1.predict(x_test)\n",
        "\n",
        "\n",
        "# mark inliers 1, outliers -1\n",
        "y_test[y_test == 1] = -1\n",
        "y_test[y_test == 0] = 1\n",
        "# calculate score\n",
        "print(classification_report(y_test, yhat))\n",
        "# print(classification_report(y_test, yhat1))\n",
        "#score = f1_score(y_test, yhat, pos_label=1)\n",
        "#print('F1 Score: %.3f' % score)\n",
        "yhat = pd.Series(yhat)\n",
        "y_test = pd.Series(y_test)\n",
        "#yhat.to_csv(\"test123.csv\")\n",
        "#print(accuracy_score(y_test, yhat, normalize=True))\n",
        "#y_test.to_csv(\"test124.csv\")\n",
        "cmat = confusion_matrix(y_test, yhat) \n",
        "# cmat1 = confusion_matrix(y_test, yhat1) \n",
        "\n",
        "print(cmat) "
      ],
      "metadata": {
        "colab": {
          "base_uri": "https://localhost:8080/"
        },
        "id": "qephTYTrC-6E",
        "outputId": "5de0fca0-8b58-4bb4-ebcd-6ebb4739db57"
      },
      "execution_count": null,
      "outputs": [
        {
          "output_type": "stream",
          "name": "stdout",
          "text": [
            "              precision    recall  f1-score   support\n",
            "\n",
            "          -1       0.94      0.85      0.90       300\n",
            "           1       0.50      0.73      0.59        60\n",
            "\n",
            "    accuracy                           0.83       360\n",
            "   macro avg       0.72      0.79      0.74       360\n",
            "weighted avg       0.87      0.83      0.85       360\n",
            "\n",
            "[[256  44]\n",
            " [ 16  44]]\n"
          ]
        }
      ]
    }
  ]
}